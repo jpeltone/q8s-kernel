{
 "cells": [
  {
   "cell_type": "code",
   "execution_count": 1,
   "metadata": {},
   "outputs": [],
   "source": [
    "import json\n",
    "import time\n",
    "\n",
    "from qiskit import QuantumCircuit, transpile\n",
    "from qiskit_aer import AerSimulator\n",
    "from qiskit_aer.primitives import Sampler as AerSampler\n",
    "from qiskit.transpiler import CouplingMap\n"
   ]
  },
  {
   "cell_type": "code",
   "execution_count": 2,
   "metadata": {},
   "outputs": [],
   "source": [
    "# Define number of qubits, and the device for using GPU acceleration\n",
    "# https://qiskit.github.io/qiskit-aer/stubs/qiskit_aer.AerSimulator.html#qiskit_aer.AerSimulator\n",
    "\n",
    "\n",
    "# Test 1) ghz_amplitude and 2) compare ghz_counts_aerrun with ghz_counts_aersampler\n",
    "\n",
    "# Statevector accepts only 32 qubits max\n",
    "\n",
    "# maybe defining a initial mapping will reduce the execution time of the transpiling process"
   ]
  },
  {
   "cell_type": "code",
   "execution_count": 3,
   "metadata": {},
   "outputs": [],
   "source": [
    "def ghz_amplitudes(n, method ='statevector', device=None):\n",
    "\n",
    "    # Define method (statevector up to 29 qubits)\n",
    "    # For ghz, we can use stabilizer up to 10000 qubits\n",
    "    # Or MPS up to 63 qubits, both do not support GPU methods\n",
    "    # https://qiskit.github.io/qiskit-aer/tutorials/6_extended_stabilizer_tutorial.html\n",
    "    backend = AerSimulator(method=method, device=device)\n",
    "    cm = CouplingMap().from_line(n)\n",
    "\n",
    "    circuit = QuantumCircuit(n)\n",
    "    circuit.h(0)\n",
    "    for i in range(n-1):\n",
    "        circuit.cx(i, i+1)\n",
    "    \n",
    "    circuit.save_amplitudes([0, 2**n-1])\n",
    "\n",
    "    # Test using a specific transpilation/noise model?\n",
    "    circuit = transpile(circuit, backend=backend, coupling_map=cm)\n",
    "\n",
    "    # Execute the circuit on the aer simulator\n",
    "    result = backend.run(circuit).result()\n",
    "\n",
    "    return result"
   ]
  },
  {
   "cell_type": "code",
   "execution_count": 4,
   "metadata": {},
   "outputs": [],
   "source": [
    "def ghz_counts_aerrun(n, method ='statevector', shots=10000, device=None):\n",
    "   \n",
    "    backend = AerSimulator(method=method, device=device)\n",
    "    cm = CouplingMap().from_line(n)\n",
    "\n",
    "    circuit = QuantumCircuit(n)\n",
    "    circuit.h(0)\n",
    "    for i in range(n-1):\n",
    "        circuit.cx(i, i+1)\n",
    "    circuit.measure_all(inplace=True, add_bits=True)\n",
    "\n",
    "    # Test using a specific transpilation/noise model?\n",
    "    circuit = transpile(circuit, backend=backend, coupling_map=cm)\n",
    "\n",
    "    # Execute the circuit on the aer simulator\n",
    "    result = backend.run(circuit, shots = shots).result()\n",
    "\n",
    "    return result"
   ]
  },
  {
   "cell_type": "code",
   "execution_count": 5,
   "metadata": {},
   "outputs": [],
   "source": [
    "def ghz_counts_aersampler(n, method ='statevector', shots=10000, device=None):\n",
    "\n",
    "    # Define method (statevector up to 29 qubits)\n",
    "    # For ghz, we can use stabilizer up to 10000 qubits, with some error\n",
    "    # Or MPS up to 63 qubits, both do not support GPU methods\n",
    "    # https://qiskit.github.io/qiskit-aer/tutorials/6_extended_stabilizer_tutorial.html\n",
    "\n",
    "    \n",
    "    sampler = AerSampler(backend_options={\"method\": method, \"device\": device})\n",
    "    cm = CouplingMap().from_line(n)\n",
    "\n",
    "    circuit = QuantumCircuit(n)\n",
    "    circuit.h(0)\n",
    "    for i in range(n-1):\n",
    "        circuit.cx(i, i+1)\n",
    "    circuit.measure_all(inplace=True, add_bits=True)\n",
    "\n",
    "    # Test using a specific transpilation/noise model?\n",
    "    circuit = transpile(circuit, backend=backend, coupling_map=cm)\n",
    "\n",
    "    # Execute the circuit on the aer simulator\n",
    "    result = sampler.run([circuit], shots=shots).result()\n",
    "\n",
    "    return result.quasi_dists"
   ]
  },
  {
   "cell_type": "code",
   "execution_count": 6,
   "metadata": {},
   "outputs": [
    {
     "name": "stdout",
     "output_type": "stream",
     "text": [
      "6.95 ms ± 1.21 ms per loop (mean ± std. dev. of 7 runs, 1 loop each)\n"
     ]
    }
   ],
   "source": [
    "%%timeit\n",
    "ghz_amplitudes(n=1)"
   ]
  },
  {
   "cell_type": "code",
   "execution_count": 7,
   "metadata": {},
   "outputs": [
    {
     "name": "stdout",
     "output_type": "stream",
     "text": [
      "8.82 ms ± 743 µs per loop (mean ± std. dev. of 7 runs, 100 loops each)\n"
     ]
    }
   ],
   "source": [
    "%%timeit\n",
    "ghz_amplitudes(n=10)"
   ]
  },
  {
   "cell_type": "code",
   "execution_count": 8,
   "metadata": {},
   "outputs": [
    {
     "name": "stdout",
     "output_type": "stream",
     "text": [
      "42.3 ms ± 1.81 ms per loop (mean ± std. dev. of 7 runs, 10 loops each)\n"
     ]
    }
   ],
   "source": [
    "%%timeit\n",
    "ghz_amplitudes(n=20)"
   ]
  },
  {
   "cell_type": "code",
   "execution_count": 9,
   "metadata": {},
   "outputs": [
    {
     "name": "stdout",
     "output_type": "stream",
     "text": [
      "1.09 s ± 123 ms per loop (mean ± std. dev. of 7 runs, 1 loop each)\n"
     ]
    }
   ],
   "source": [
    "%%timeit\n",
    "ghz_amplitudes(n=25)"
   ]
  },
  {
   "cell_type": "code",
   "execution_count": 10,
   "metadata": {},
   "outputs": [
    {
     "name": "stdout",
     "output_type": "stream",
     "text": [
      "3.46 s ± 67.6 ms per loop (mean ± std. dev. of 7 runs, 1 loop each)\n"
     ]
    }
   ],
   "source": [
    "%%timeit\n",
    "ghz_amplitudes(n=27)"
   ]
  },
  {
   "cell_type": "code",
   "execution_count": 11,
   "metadata": {},
   "outputs": [
    {
     "name": "stdout",
     "output_type": "stream",
     "text": [
      "15.4 s ± 746 ms per loop (mean ± std. dev. of 7 runs, 1 loop each)\n"
     ]
    }
   ],
   "source": [
    "%%timeit\n",
    "ghz_amplitudes(n=29)"
   ]
  },
  {
   "cell_type": "code",
   "execution_count": 12,
   "metadata": {},
   "outputs": [],
   "source": [
    "# Insufficent memory for circuits over 29 qubits\n",
    "#%%timeit -r7 -n7\n"
   ]
  }
 ],
 "metadata": {
  "kernelspec": {
   "display_name": "qiskit",
   "language": "python",
   "name": "python3"
  },
  "language_info": {
   "codemirror_mode": {
    "name": "ipython",
    "version": 3
   },
   "file_extension": ".py",
   "mimetype": "text/x-python",
   "name": "python",
   "nbconvert_exporter": "python",
   "pygments_lexer": "ipython3",
   "version": "3.12.2"
  }
 },
 "nbformat": 4,
 "nbformat_minor": 2
}
