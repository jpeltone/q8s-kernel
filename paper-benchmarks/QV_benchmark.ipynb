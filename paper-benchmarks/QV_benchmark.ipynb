{
 "cells": [
  {
   "cell_type": "code",
   "execution_count": 1,
   "metadata": {},
   "outputs": [],
   "source": [
    "import json\n",
    "import time\n",
    "\n",
    "from qiskit import QuantumCircuit, transpile\n",
    "from qiskit.circuit.library import QuantumVolume\n",
    "from qiskit_aer import AerSimulator\n",
    "from qiskit_experiments.library import QuantumVolume as QuantumVolumeEXP\n",
    "from qiskit.transpiler import CouplingMap"
   ]
  },
  {
   "cell_type": "code",
   "execution_count": 2,
   "metadata": {},
   "outputs": [],
   "source": [
    "# def qv_experiment(n, method ='statevector', seed=100, trials=100, device=None):\n",
    "\n",
    "#    backend = AerSimulator(method=method, device=device)\n",
    "#    cm = CouplingMap().from_full(n)\n",
    "   \n",
    "#    qubits = tuple(range(n))\n",
    "\n",
    "#    qv_exp = QuantumVolumeEXP(qubits, seed=seed)\n",
    "#    qv_exp.set_experiment_options(trials=trials)\n",
    "\n",
    "#     expdata = qv_exp.run(backend).block_for_results()\n",
    "\n",
    "#     return expdata\n",
    "\n",
    "# expdata = qv_experiment(5)\n",
    "\n",
    "# display(expdata.figure(0))"
   ]
  },
  {
   "cell_type": "code",
   "execution_count": 3,
   "metadata": {},
   "outputs": [],
   "source": [
    "def QV_state(n, depth=10, seed=100, method ='statevector', device=None):\n",
    "\n",
    "    backend = AerSimulator(method=method, device=device)\n",
    "    cm = CouplingMap().from_full(n)\n",
    "\n",
    "    circuit = QuantumVolume(num_qubits=n, depth=depth, seed=seed)\n",
    "    circuit.save_amplitudes(range(n))\n",
    "    circuit = transpile(circuit, backend=backend, coupling_map=cm)\n",
    "    \n",
    "    result = backend.run(circuit).result()\n",
    "\n",
    "    return result.data()"
   ]
  },
  {
   "cell_type": "code",
   "execution_count": 4,
   "metadata": {},
   "outputs": [],
   "source": [
    "def QV_counts(n, depth=10, seed=100, method ='statevector', shots=10000, device=None):\n",
    "\n",
    "    backend = AerSimulator(method=method, device=device)\n",
    "    cm = CouplingMap().from_full(n)\n",
    "\n",
    "    circuit = QuantumVolume(num_qubits=n, depth=depth, seed=seed)\n",
    "    circuit.measure_all(inplace=True, add_bits=True)\n",
    "    circuit = transpile(circuit, backend=backend, coupling_map=cm)\n",
    "    \n",
    "    result = backend.run(circuit, shots = shots).result()\n",
    "\n",
    "    return result.get_counts()"
   ]
  },
  {
   "cell_type": "code",
   "execution_count": 5,
   "metadata": {},
   "outputs": [
    {
     "name": "stdout",
     "output_type": "stream",
     "text": [
      "19 ms ± 1.95 ms per loop (mean ± std. dev. of 7 runs, 100 loops each)\n"
     ]
    }
   ],
   "source": [
    "%%timeit\n",
    "QV_state(n=10)"
   ]
  },
  {
   "cell_type": "code",
   "execution_count": 6,
   "metadata": {},
   "outputs": [
    {
     "name": "stdout",
     "output_type": "stream",
     "text": [
      "27.1 ms ± 426 µs per loop (mean ± std. dev. of 7 runs, 10 loops each)\n"
     ]
    }
   ],
   "source": [
    "%%timeit\n",
    "QV_state(n=15)"
   ]
  },
  {
   "cell_type": "code",
   "execution_count": 7,
   "metadata": {},
   "outputs": [
    {
     "name": "stdout",
     "output_type": "stream",
     "text": [
      "104 ms ± 4.52 ms per loop (mean ± std. dev. of 7 runs, 10 loops each)\n"
     ]
    }
   ],
   "source": [
    "%%timeit\n",
    "QV_state(n=20)"
   ]
  },
  {
   "cell_type": "code",
   "execution_count": 8,
   "metadata": {},
   "outputs": [
    {
     "name": "stdout",
     "output_type": "stream",
     "text": [
      "2.54 s ± 26.7 ms per loop (mean ± std. dev. of 7 runs, 1 loop each)\n"
     ]
    }
   ],
   "source": [
    "%%timeit\n",
    "QV_state(n=25)"
   ]
  },
  {
   "cell_type": "code",
   "execution_count": 9,
   "metadata": {},
   "outputs": [
    {
     "name": "stdout",
     "output_type": "stream",
     "text": [
      "1min 26s ± 7.08 s per loop (mean ± std. dev. of 7 runs, 1 loop each)\n"
     ]
    }
   ],
   "source": [
    "%%timeit\n",
    "QV_state(n=29)"
   ]
  },
  {
   "cell_type": "code",
   "execution_count": 10,
   "metadata": {},
   "outputs": [],
   "source": [
    "# Insufficent memory for circuits over 29 qubits\n",
    "\n",
    "#%%timeit -r7 -n7"
   ]
  }
 ],
 "metadata": {
  "kernelspec": {
   "display_name": "qiskit",
   "language": "python",
   "name": "python3"
  },
  "language_info": {
   "codemirror_mode": {
    "name": "ipython",
    "version": 3
   },
   "file_extension": ".py",
   "mimetype": "text/x-python",
   "name": "python",
   "nbconvert_exporter": "python",
   "pygments_lexer": "ipython3",
   "version": "3.12.2"
  }
 },
 "nbformat": 4,
 "nbformat_minor": 2
}
