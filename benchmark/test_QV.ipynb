{
 "cells": [
  {
   "cell_type": "code",
   "execution_count": 24,
   "metadata": {},
   "outputs": [],
   "source": [
    "import timeit\n",
    "from qiskit import transpile\n",
    "from qiskit.circuit.library import QuantumVolume\n",
    "from qiskit_aer import AerSimulator\n",
    "from qiskit.transpiler import CouplingMap\n",
    "from qiskit_aer.noise import NoiseModel\n",
    "from qiskit_ibm_runtime.fake_provider import FakeOsaka\n",
    "\n",
    "# n greater than 2\n",
    "def test_function(n, depth=20, seed=100, method ='statevector', device=None):\n",
    "\n",
    "    cm = CouplingMap().from_full(n)\n",
    "    backend = AerSimulator(method=method, device=device, coupling_map=cm)\n",
    "\n",
    "    circuit = QuantumVolume(num_qubits=n, depth=depth, seed=seed)\n",
    "    circuit.save_state()\n",
    "    circuit = transpile(circuit, backend=backend, coupling_map=cm, seed_transpiler=seed)\n",
    "    \n",
    "    start = timeit.default_timer()\n",
    "    result = backend.run(circuit).result()\n",
    "    end = timeit.default_timer()\n",
    "\n",
    "    return end-start\n",
    "\n",
    "# def test_function(n, depth=20, seed=100, method ='density_matrix', device=None):\n",
    "\n",
    "#     model = FakeOsaka()\n",
    "#     noise_model = NoiseModel.from_backend(model)\n",
    "#     cm = model.coupling_map\n",
    "#     basis_gates = noise_model.basis_gates\n",
    "\n",
    "#     backend = AerSimulator(noise_model=noise_model,\n",
    "#                        coupling_map=cm,\n",
    "#                        basis_gates=basis_gates,\n",
    "#                        method=method,\n",
    "#                        device=device)\n",
    "\n",
    "#     circuit = QuantumVolume(num_qubits=n, depth=depth, seed=seed)\n",
    "#     circuit.save_state()\n",
    "\n",
    "#     circuit = transpile(circuit, backend=backend, seed_transpiler=seed,\n",
    "#                         coupling_map=cm)\n",
    "\n",
    "#     start = timeit.default_timer()\n",
    "#     result = backend.run(circuit).result()\n",
    "#     end = timeit.default_timer()\n",
    "\n",
    "#     return end-start"
   ]
  }
 ],
 "metadata": {
  "kernelspec": {
   "display_name": "qiskit",
   "language": "python",
   "name": "python3"
  },
  "language_info": {
   "codemirror_mode": {
    "name": "ipython",
    "version": 3
   },
   "file_extension": ".py",
   "mimetype": "text/x-python",
   "name": "python",
   "nbconvert_exporter": "python",
   "pygments_lexer": "ipython3",
   "version": "3.12.2"
  }
 },
 "nbformat": 4,
 "nbformat_minor": 2
}
