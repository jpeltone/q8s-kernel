{
 "cells": [
  {
   "cell_type": "code",
   "execution_count": 1,
   "metadata": {
    "vscode": {
     "languageId": "any text"
    }
   },
   "outputs": [
    {
     "name": "stdout",
     "output_type": "stream",
     "text": []
    }
   ],
   "source": [
    "import timeit\n",
    "from qiskit import transpile, QuantumCircuit\n",
    "from qiskit_aer import AerSimulator\n",
    "from qiskit.transpiler import CouplingMap\n",
    "from qiskit_aer.noise import NoiseModel\n",
    "from qiskit_ibm_runtime.fake_provider import FakeOsaka\n",
    "\n",
    "def test_function(n, seed=100, method ='statevector', device='GPU'):\n",
    "\n",
    "    cm = CouplingMap().from_full(n)\n",
    "    backend = AerSimulator(method=method, device=device, coupling_map=cm)\n",
    "\n",
    "    circuit = QuantumCircuit(n)\n",
    "    circuit.h(0)\n",
    "    for i in range(n-1):\n",
    "        circuit.cx(i, i+1)\n",
    "    \n",
    "    circuit.save_state()\n",
    "    circuit = transpile(circuit, backend=backend, coupling_map=cm, seed_transpiler=seed)\n",
    "    \n",
    "    start = timeit.default_timer()\n",
    "    result = backend.run(circuit).result()\n",
    "    end = timeit.default_timer()\n",
    "\n",
    "    return end-start\n",
    "\n",
    "# print(test_function(29))\n",
    "\n",
    "# def test_function(n, seed=100, method ='density_matrix', device=None):\n",
    "\n",
    "#     model = FakeOsaka()\n",
    "#     noise_model = NoiseModel.from_backend(model)\n",
    "#     cm = model.coupling_map\n",
    "#     basis_gates = noise_model.basis_gates\n",
    "\n",
    "#     backend = AerSimulator(noise_model=noise_model,\n",
    "#                        coupling_map=cm,\n",
    "#                        basis_gates=basis_gates,\n",
    "#                        method=method,\n",
    "#                        device=device)\n",
    "\n",
    "#     circuit = QuantumCircuit(n)\n",
    "#     circuit.h(0)\n",
    "#     for i in range(n-1):\n",
    "#         circuit.cx(i, i+1)\n",
    "    \n",
    "#     circuit.save_state()\n",
    "\n",
    "#     circuit = transpile(circuit, backend=backend, seed_transpiler=seed, \n",
    "#                         coupling_map=cm)\n",
    "    \n",
    "#     start = timeit.default_timer()\n",
    "#     result = backend.run(circuit).result()\n",
    "#     end = timeit.default_timer()\n",
    "\n",
    "#     return end-start"
   ]
  },
  {
   "cell_type": "code",
   "execution_count": null,
   "metadata": {},
   "outputs": [],
   "source": []
  }
 ],
 "metadata": {
  "kernelspec": {
   "display_name": "Python Q8s kernel",
   "language": "python",
   "name": "q8s-kernel"
  },
  "language_info": {
   "file_extension": ".txt",
   "mimetype": "text/plain",
   "name": "Any text"
  }
 },
 "nbformat": 4,
 "nbformat_minor": 4
}
