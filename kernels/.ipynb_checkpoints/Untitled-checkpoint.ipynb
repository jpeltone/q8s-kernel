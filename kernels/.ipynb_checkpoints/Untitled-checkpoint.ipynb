{
 "cells": [
  {
   "cell_type": "code",
   "execution_count": 1,
   "id": "2363bf9c-1a03-48f9-b27f-90b5eb9009ff",
   "metadata": {},
   "outputs": [
    {
     "name": "stdout",
     "output_type": "stream",
     "text": [
      "True\n",
      "Count of '00': 53\n",
      "Count of '11': 47\n"
     ]
    }
   ],
   "source": [
    "import pennylane as qml\n",
    "from pennylane import numpy as np\n",
    "\n",
    "dev = qml.device(\"default.qubit\", wires=2, shots=100)\n",
    "\n",
    "@qml.qnode(dev)\n",
    "def circuit():\n",
    "    qml.Hadamard(wires=0)\n",
    "    qml.CNOT(wires=[0, 1])\n",
    "    return qml.sample(qml.PauliZ(0)), qml.sample(qml.PauliZ(1))\n",
    "\n",
    "result = circuit()\n",
    "isBell = np.all(result[0] == result[1])\n",
    "\n",
    "print(isBell)\n",
    "# Count occurrences of \"00\" and \"11\"\n",
    "count_00 = np.sum(result[0] == 1)\n",
    "count_11 = np.sum(result[1] == -1)\n",
    "\n",
    "print(\"Count of '00':\", count_00)\n",
    "print(\"Count of '11':\", count_11)"
   ]
  }
 ],
 "metadata": {
  "kernelspec": {
   "display_name": "Python Q8s kernel",
   "language": "python",
   "name": "q8s-kernel"
  },
  "language_info": {
   "file_extension": ".txt",
   "mimetype": "text/plain",
   "name": "Any text"
  }
 },
 "nbformat": 4,
 "nbformat_minor": 5
}
